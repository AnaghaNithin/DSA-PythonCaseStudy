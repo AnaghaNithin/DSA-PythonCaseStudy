{
  "nbformat": 4,
  "nbformat_minor": 0,
  "metadata": {
    "colab": {
      "provenance": []
    },
    "kernelspec": {
      "name": "python3",
      "display_name": "Python 3"
    },
    "language_info": {
      "name": "python"
    }
  },
  "cells": [
    {
      "cell_type": "markdown",
      "source": [
        "# **1. Grocery Store Bill Calculator**"
      ],
      "metadata": {
        "id": "SkP7bH9uD6cS"
      }
    },
    {
      "cell_type": "code",
      "execution_count": null,
      "metadata": {
        "id": "7iWowRkDLPuW"
      },
      "outputs": [],
      "source": [
        "#Store the prices of items in a dictionary\n",
        "prices={'rice':55,'sugar':42,'salt':25,'mustard':38,'pepper':108,'jaggery':52,'teapowder':47,'paste':60,'brush':25,'soap':32,'fenugreek':34,'coriander':48}\n",
        "\n",
        "total_bill = 0\n",
        "while True:\n",
        "\n",
        "    # Ask the user for the item name\n",
        "    item = input(\"Enter the item name: \").lower()\n",
        "    if item == 'done':\n",
        "        break\n",
        "\n",
        "    # Ask for the quantity\n",
        "    quantity = int(input(f\"Enter the quantity of {item}? \"))\n",
        "\n",
        "    # Calculate the cost and add it to the total bill\n",
        "    total_bill += prices[item] * quantity\n",
        "\n",
        "    # Step 5: Print the total bill\n",
        "print(f\"\\nYour total bill is: {total_bill} INR\")\n",
        "\n",
        "\n",
        "\n",
        "\n",
        "\n"
      ]
    },
    {
      "cell_type": "markdown",
      "source": [
        "**2. Student Grade Calculator**"
      ],
      "metadata": {
        "id": "Hl6ZKHqYZVXd"
      }
    },
    {
      "cell_type": "code",
      "source": [
        "# An empty list to store subject names and marks\n",
        "submarks = []\n",
        "\n",
        "# input for 5 subjects\n",
        "for i in range(1, 6):\n",
        "    subject = input(f\"Enter the name of subject {i}: \")\n",
        "    mark = float(input(f\"Enter the mark for {subject}: \"))\n",
        "\n",
        "    submarks.extend([subject, mark])\n",
        "\n",
        "# Extract marks only\n",
        "marks = [submarks[i] for i in range(1, len(submarks), 2)]\n",
        "\n",
        "# Calculate the average\n",
        "average = sum(marks) / len(marks)\n",
        "\n",
        "# Calculate the grade\n",
        "if average >= 90:\n",
        "    grade = 'A'\n",
        "elif average >= 80:\n",
        "    grade = 'B'\n",
        "elif average >= 70:\n",
        "    grade = 'C'\n",
        "elif average >= 60:\n",
        "    grade = 'D'\n",
        "else:\n",
        "    grade = 'F'\n",
        "\n",
        "# Display the average and the grade\n",
        "print(\"\\nSubject-wise Marks:\")\n",
        "for i in range(0, len(submarks), 2):\n",
        "    print(f\"{submarks[i]}: {submarks[i+1]}\")\n",
        "\n",
        "print(f\"\\nAverage marks: {average:.2f}\")\n",
        "print(f\"Grade: {grade}\")"
      ],
      "metadata": {
        "id": "gcI8lNkCxuoe"
      },
      "execution_count": null,
      "outputs": []
    },
    {
      "cell_type": "markdown",
      "source": [
        "**3. A movie theatre wants to automate ticket booking for customers**"
      ],
      "metadata": {
        "id": "iQuSuljJ0JMM"
      }
    },
    {
      "cell_type": "code",
      "source": [
        "# List of available seats\n",
        "available_seats = list(range(1, 21))  # seats 1 to 20\n",
        "\n",
        "while True:\n",
        "    # display available seats\n",
        "    print(f\"Available seats: {available_seats}\")\n",
        "\n",
        "    # ask seat number\n",
        "    seat_number = int(input(\"Enter the seat number to book (or -1 to exit): \"))\n",
        "\n",
        "    if seat_number == -1:\n",
        "        print(\"Thank you for using the booking system!\")\n",
        "        break\n",
        "\n",
        "    # Check if the seat is available\n",
        "    if seat_number in available_seats:\n",
        "        available_seats.remove(seat_number)  # Book the seat\n",
        "        print(f\"Seat {seat_number} booked successfully!\")\n",
        "    else:\n",
        "        print(f\"Seat {seat_number} is not available. Please choose another seat.\")\n",
        "\n",
        "    # Check if all seats are booked\n",
        "    if not available_seats:\n",
        "        print(\"All seats are booked!\")\n",
        "        break\n"
      ],
      "metadata": {
        "id": "rYXK4uyVzQeW",
        "colab": {
          "base_uri": "https://localhost:8080/"
        },
        "outputId": "ebff0401-a97b-44b0-c6bf-be8bb0bdfbb9"
      },
      "execution_count": 1,
      "outputs": [
        {
          "output_type": "stream",
          "name": "stdout",
          "text": [
            "Available seats: [1, 2, 3, 4, 5, 6, 7, 8, 9, 10, 11, 12, 13, 14, 15, 16, 17, 18, 19, 20]\n",
            "Enter the seat number to book (or -1 to exit): 21\n",
            "Seat 21 is not available. Please choose another seat.\n",
            "Available seats: [1, 2, 3, 4, 5, 6, 7, 8, 9, 10, 11, 12, 13, 14, 15, 16, 17, 18, 19, 20]\n",
            "Enter the seat number to book (or -1 to exit): 12\n",
            "Seat 12 booked successfully!\n",
            "Available seats: [1, 2, 3, 4, 5, 6, 7, 8, 9, 10, 11, 13, 14, 15, 16, 17, 18, 19, 20]\n",
            "Enter the seat number to book (or -1 to exit): -1\n",
            "Thank you for using the booking system!\n"
          ]
        }
      ]
    },
    {
      "cell_type": "code",
      "source": [],
      "metadata": {
        "id": "MHiwGfnT3YEG"
      },
      "execution_count": null,
      "outputs": []
    }
  ]
}